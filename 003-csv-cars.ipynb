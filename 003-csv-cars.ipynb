{
 "cells": [
  {
   "cell_type": "code",
   "execution_count": null,
   "metadata": {},
   "outputs": [],
   "source": [
    "import csv\n",
    "import datetime\n",
    "from openai import AzureOpenAI\n",
    "import os\n",
    "import pandas as pd\n",
    "import sys\n",
    "import pathlib\n",
    "from dotenv import load_dotenv"
   ]
  },
  {
   "cell_type": "code",
   "execution_count": null,
   "metadata": {},
   "outputs": [],
   "source": [
    "load_dotenv()"
   ]
  },
  {
   "cell_type": "code",
   "execution_count": null,
   "metadata": {},
   "outputs": [],
   "source": [
    "client = AzureOpenAI(\n",
    "        azure_endpoint=os.getenv(\"OPENAI_API_BASE\"),\n",
    "        api_key=os.getenv(\"OPENAI_API_KEY\"),\n",
    "        # azure_ad_token_provider=token_provider,\n",
    "        api_version=os.getenv(\"OPENAI_API_VERSION\"),\n",
    ")"
   ]
  },
  {
   "cell_type": "code",
   "execution_count": null,
   "metadata": {},
   "outputs": [],
   "source": [
    "model = \"gpt-4o\""
   ]
  },
  {
   "cell_type": "code",
   "execution_count": null,
   "metadata": {},
   "outputs": [],
   "source": [
    "csv_file_path = ASSET_PATH = pathlib.Path(\"..\").resolve() / \"data\" / \"cars.csv\"\n",
    "csv_file_path"
   ]
  },
  {
   "cell_type": "code",
   "execution_count": null,
   "metadata": {},
   "outputs": [],
   "source": [
    "with open(csv_file_path, \"r\", newline=\"\") as file:\n",
    "    csv_reader = csv.reader(file)\n",
    "    text = \"\"\n",
    "\n",
    "    for row in csv_reader:\n",
    "        text += \",\".join(row) + \"\\n\"\n",
    "\n",
    "print(text)"
   ]
  },
  {
   "cell_type": "code",
   "execution_count": null,
   "metadata": {},
   "outputs": [],
   "source": [
    "def azure_openai(prompt, temperature=0.8):\n",
    "    \"\"\"\n",
    "    Get Azure Open AI results\n",
    "    \"\"\"\n",
    "    prompt = prompt + \"\\n\" + text\n",
    "\n",
    "    completion = client.chat.completions.create(\n",
    "                        model=model,\n",
    "                        messages=[\n",
    "                            {\"role\": \"system\", \"content\": \"You are a helpful assistant to analysis my csv file of car information\"},\n",
    "                            {\"role\": \"user\", \"content\": prompt}\n",
    "                        ]\n",
    "                )\n",
    "    \n",
    "    print(completion.model_dump_json(indent=2))\n",
    " \n",
    "\n",
    "    answer = completion.choices[0].message.content.strip(\"\\n\")\n",
    "\n",
    "    return answer"
   ]
  },
  {
   "cell_type": "code",
   "execution_count": null,
   "metadata": {},
   "outputs": [],
   "source": [
    "def azure_openai2(prompt, temperature=0.8):\n",
    "    \"\"\"\n",
    "    Get Azure Open AI results\n",
    "    \"\"\"\n",
    "    # prompt = prompt + \"\\n\" + text\n",
    "\n",
    "    completion = client.chat.completions.create(\n",
    "                        model=model,\n",
    "                        messages=[\n",
    "                            {\"role\": \"system\", \"content\": \"You are a helpful assistant to analysis my csv file of car information\"},\n",
    "                            {\"role\": \"user\", \"content\": text},\n",
    "                            {\"role\": \"user\", \"content\": prompt},\n",
    "\n",
    "                        ]\n",
    "                )\n",
    "    \n",
    "    print(completion.model_dump_json(indent=2))\n",
    " \n",
    "\n",
    "    answer = completion.choices[0].message.content.strip(\"\\n\")\n",
    "\n",
    "    return answer"
   ]
  },
  {
   "cell_type": "code",
   "execution_count": null,
   "metadata": {},
   "outputs": [],
   "source": [
    "answer = azure_openai(\"Can you describe this dataset?\")\n",
    "\n",
    "print(answer)"
   ]
  },
  {
   "cell_type": "code",
   "execution_count": 14,
   "metadata": {},
   "outputs": [
    {
     "name": "stdout",
     "output_type": "stream",
     "text": [
      "{\n",
      "  \"id\": \"chatcmpl-AXu8serf1cx4At600ZeIh0EzA1Jdj\",\n",
      "  \"choices\": [\n",
      "    {\n",
      "      \"finish_reason\": \"stop\",\n",
      "      \"index\": 0,\n",
      "      \"logprobs\": null,\n",
      "      \"message\": {\n",
      "        \"content\": \"Certainly! This dataset appears to be a collection of car specifications and pricing information. Here's a breakdown of the columns and their meanings:\\n\\n1. **Manufacturer**: The brand or company that makes the car (e.g., Acura, Audi, BMW).\\n\\n2. **Model**: The specific model or name of the car (e.g., MDX, RSX Type S 2dr).\\n\\n3. **Type**: The category or class of the car, such as SUV, Sedan, Sports, or Wagon.\\n\\n4. **Origin**: The geographical region where the manufacturer is based, which is typically a continent or large region such as Asia or Europe.\\n\\n5. **DriveTrain**: The type of drivetrain system the car uses, indicating which wheels receive power from the engine. Typical values are Front (front-wheel drive), Rear (rear-wheel drive), or All (all-wheel drive).\\n\\n6. **MSRP**: Manufacturer's Suggested Retail Price, which is the price recommended by the manufacturer for sale to customers. It is usually given in dollars.\\n\\n7. **Invoice**: The amount that a dealer might pay to the manufacturer for the car, also in dollars.\\n\\n8. **EngineSize**: The size of the engine, typically measured in liters.\\n\\n9. **Cylinders**: The number of cylinders in the engine, which is a factor in determining the engine's power and efficiency.\\n\\n10. **Horsepower**: A measure of the engine's power output.\\n\\n11. **MPG_City**: The car's fuel efficiency in miles per gallon (MPG) when driving in city conditions.\\n\\n12. **MPG_Highway**: The car's fuel efficiency in miles per gallon when driving in highway conditions.\\n\\n13. **Weight**: The car's weight, probably in pounds.\\n\\n14. **Wheelbase**: The distance between the front and rear axles of the car, usually measured in inches.\\n\\n15. **Length**: The total length of the car, also typically measured in inches.\\n\\nThis dataset can be used for various analyses, including comparing cars from different manufacturers, examining the relationship between engine size and fuel efficiency, or exploring pricing strategies across brands and types.\",\n",
      "        \"refusal\": null,\n",
      "        \"role\": \"assistant\",\n",
      "        \"audio\": null,\n",
      "        \"function_call\": null,\n",
      "        \"tool_calls\": null\n",
      "      }\n",
      "    }\n",
      "  ],\n",
      "  \"created\": 1732643998,\n",
      "  \"model\": \"gpt-4o-2024-08-06\",\n",
      "  \"object\": \"chat.completion\",\n",
      "  \"service_tier\": null,\n",
      "  \"system_fingerprint\": \"fp_d54531d9eb\",\n",
      "  \"usage\": {\n",
      "    \"completion_tokens\": 447,\n",
      "    \"prompt_tokens\": 2197,\n",
      "    \"total_tokens\": 2644,\n",
      "    \"completion_tokens_details\": null,\n",
      "    \"prompt_tokens_details\": null\n",
      "  }\n",
      "}\n",
      "Certainly! This dataset appears to be a collection of car specifications and pricing information. Here's a breakdown of the columns and their meanings:\n",
      "\n",
      "1. **Manufacturer**: The brand or company that makes the car (e.g., Acura, Audi, BMW).\n",
      "\n",
      "2. **Model**: The specific model or name of the car (e.g., MDX, RSX Type S 2dr).\n",
      "\n",
      "3. **Type**: The category or class of the car, such as SUV, Sedan, Sports, or Wagon.\n",
      "\n",
      "4. **Origin**: The geographical region where the manufacturer is based, which is typically a continent or large region such as Asia or Europe.\n",
      "\n",
      "5. **DriveTrain**: The type of drivetrain system the car uses, indicating which wheels receive power from the engine. Typical values are Front (front-wheel drive), Rear (rear-wheel drive), or All (all-wheel drive).\n",
      "\n",
      "6. **MSRP**: Manufacturer's Suggested Retail Price, which is the price recommended by the manufacturer for sale to customers. It is usually given in dollars.\n",
      "\n",
      "7. **Invoice**: The amount that a dealer might pay to the manufacturer for the car, also in dollars.\n",
      "\n",
      "8. **EngineSize**: The size of the engine, typically measured in liters.\n",
      "\n",
      "9. **Cylinders**: The number of cylinders in the engine, which is a factor in determining the engine's power and efficiency.\n",
      "\n",
      "10. **Horsepower**: A measure of the engine's power output.\n",
      "\n",
      "11. **MPG_City**: The car's fuel efficiency in miles per gallon (MPG) when driving in city conditions.\n",
      "\n",
      "12. **MPG_Highway**: The car's fuel efficiency in miles per gallon when driving in highway conditions.\n",
      "\n",
      "13. **Weight**: The car's weight, probably in pounds.\n",
      "\n",
      "14. **Wheelbase**: The distance between the front and rear axles of the car, usually measured in inches.\n",
      "\n",
      "15. **Length**: The total length of the car, also typically measured in inches.\n",
      "\n",
      "This dataset can be used for various analyses, including comparing cars from different manufacturers, examining the relationship between engine size and fuel efficiency, or exploring pricing strategies across brands and types.\n"
     ]
    }
   ],
   "source": [
    "answer = azure_openai2(\"Can you describe this dataset?\")\n",
    "\n",
    "print(answer)"
   ]
  },
  {
   "cell_type": "code",
   "execution_count": 15,
   "metadata": {},
   "outputs": [
    {
     "name": "stdout",
     "output_type": "stream",
     "text": [
      "{\n",
      "  \"id\": \"chatcmpl-AXu9CHffojVU6ACW4NxbiF3aufuih\",\n",
      "  \"choices\": [\n",
      "    {\n",
      "      \"finish_reason\": \"stop\",\n",
      "      \"index\": 0,\n",
      "      \"logprobs\": null,\n",
      "      \"message\": {\n",
      "        \"content\": \"The dataset consists of **36 rows** and **15 columns**.\\n\\n- **Rows**: There are 35 data rows representing different car models plus an additional header row that contains the column names.\\n- **Columns**: There are 15 columns, capturing the following attributes:\\n  1. Manufacturer\\n  2. Model\\n  3. Type\\n  4. Origin\\n  5. DriveTrain\\n  6. MSRP (Manufacturer's Suggested Retail Price)\\n  7. Invoice\\n  8. EngineSize\\n  9. Cylinders\\n  10. Horsepower\\n  11. MPG_City\\n  12. MPG_Highway\\n  13. Weight\\n  14. Wheelbase\\n  15. Length\",\n",
      "        \"refusal\": null,\n",
      "        \"role\": \"assistant\",\n",
      "        \"audio\": null,\n",
      "        \"function_call\": null,\n",
      "        \"tool_calls\": null\n",
      "      }\n",
      "    }\n",
      "  ],\n",
      "  \"created\": 1732644018,\n",
      "  \"model\": \"gpt-4o-2024-08-06\",\n",
      "  \"object\": \"chat.completion\",\n",
      "  \"service_tier\": null,\n",
      "  \"system_fingerprint\": \"fp_04751d0b65\",\n",
      "  \"usage\": {\n",
      "    \"completion_tokens\": 161,\n",
      "    \"prompt_tokens\": 2195,\n",
      "    \"total_tokens\": 2356,\n",
      "    \"completion_tokens_details\": null,\n",
      "    \"prompt_tokens_details\": null\n",
      "  }\n",
      "}\n",
      "The dataset consists of **36 rows** and **15 columns**.\n",
      "\n",
      "- **Rows**: There are 35 data rows representing different car models plus an additional header row that contains the column names.\n",
      "- **Columns**: There are 15 columns, capturing the following attributes:\n",
      "  1. Manufacturer\n",
      "  2. Model\n",
      "  3. Type\n",
      "  4. Origin\n",
      "  5. DriveTrain\n",
      "  6. MSRP (Manufacturer's Suggested Retail Price)\n",
      "  7. Invoice\n",
      "  8. EngineSize\n",
      "  9. Cylinders\n",
      "  10. Horsepower\n",
      "  11. MPG_City\n",
      "  12. MPG_Highway\n",
      "  13. Weight\n",
      "  14. Wheelbase\n",
      "  15. Length\n"
     ]
    }
   ],
   "source": [
    "answer = azure_openai(\"What are the dimensions of this dataset?\")\n",
    "\n",
    "print(answer)"
   ]
  },
  {
   "cell_type": "code",
   "execution_count": 16,
   "metadata": {},
   "outputs": [
    {
     "name": "stdout",
     "output_type": "stream",
     "text": [
      "{\n",
      "  \"id\": \"chatcmpl-AXu9MWhfFYcroy56MZUg4AttnOByv\",\n",
      "  \"choices\": [\n",
      "    {\n",
      "      \"finish_reason\": \"stop\",\n",
      "      \"index\": 0,\n",
      "      \"logprobs\": null,\n",
      "      \"message\": {\n",
      "        \"content\": \"The dataset contains a total of 38 different car models.\",\n",
      "        \"refusal\": null,\n",
      "        \"role\": \"assistant\",\n",
      "        \"audio\": null,\n",
      "        \"function_call\": null,\n",
      "        \"tool_calls\": null\n",
      "      }\n",
      "    }\n",
      "  ],\n",
      "  \"created\": 1732644028,\n",
      "  \"model\": \"gpt-4o-2024-08-06\",\n",
      "  \"object\": \"chat.completion\",\n",
      "  \"service_tier\": null,\n",
      "  \"system_fingerprint\": \"fp_d54531d9eb\",\n",
      "  \"usage\": {\n",
      "    \"completion_tokens\": 12,\n",
      "    \"prompt_tokens\": 2201,\n",
      "    \"total_tokens\": 2213,\n",
      "    \"completion_tokens_details\": null,\n",
      "    \"prompt_tokens_details\": null\n",
      "  }\n",
      "}\n",
      "The dataset contains a total of 38 different car models.\n"
     ]
    }
   ],
   "source": [
    "answer = azure_openai2(\"How many models do we have in this dataset?\")\n",
    "\n",
    "print(answer)"
   ]
  },
  {
   "cell_type": "code",
   "execution_count": 17,
   "metadata": {},
   "outputs": [
    {
     "name": "stdout",
     "output_type": "stream",
     "text": [
      "{\n",
      "  \"id\": \"chatcmpl-AXu9WMnyZfgIlrzmiMnlYm5d0fbnZ\",\n",
      "  \"choices\": [\n",
      "    {\n",
      "      \"finish_reason\": \"stop\",\n",
      "      \"index\": 0,\n",
      "      \"logprobs\": null,\n",
      "      \"message\": {\n",
      "        \"content\": \"To calculate the average horsepower from your CSV data, we will sum the horsepower values and divide by the number of entries.\\n\\nLet's first count the number of cars and sum their horsepower:\\n\\n1. Acura MDX: 265\\n2. Acura RSX Type S 2dr: 200\\n3. Acura TSX 4dr: 200\\n4. Acura TL 4dr: 270\\n5. Acura 3.5 RL 4dr: 225\\n6. Acura 3.5 RL w/Navigation 4dr: 225\\n7. Acura NSX coupe 2dr manual S: 290\\n8. Audi A4 1.8T 4dr: 170\\n9. Audi A4 1.8T convertible 2dr: 170\\n10. Audi A4 3.0 4dr: 220\\n11. Audi A4 3.0 Quattro 4dr manual: 220\\n12. Audi A4 3.0 Quattro 4dr auto: 220\\n13. Audi A6 3.0 4dr: 220\\n14. Audi A6 3.0 Quattro 4dr: 220\\n15. Audi A4 3.0 convertible 2dr: 220\\n16. Audi A4 3.0 Quattro convertible 2dr: 220\\n17. Audi A6 2.7 Turbo Quattro 4dr: 250\\n18. Audi A6 3.0 Avant Quattro: 220\\n19. Audi S4 Avant Quattro: 340\\n20. BMW X3 3.0i: 225\\n21. BMW X5 4.4i: 325\\n22. BMW 325i 4dr: 184\\n23. BMW 325Ci 2dr: 184\\n24. BMW 325Ci convertible 2dr: 184\\n25. BMW 325xi 4dr: 184\\n26. BMW 330i 4dr: 225\\n27. BMW 330Ci 2dr: 225\\n28. BMW 330xi 4dr: 225\\n29. BMW 525i 4dr: 184\\n30. BMW 330Ci convertible 2dr: 225\\n31. BMW 530i 4dr: 225\\n32. BMW 545iA 4dr: 325\\n33. BMW 745i 4dr: 325\\n34. BMW 745Li 4dr: 325\\n35. BMW M3 coupe 2dr: 333\\n36. BMW M3 convertible 2dr: 333\\n\\nNow, let's calculate the average:\\n\\n- Total horsepower = 9630\\n- Number of cars = 36\\n\\nAverage horsepower = Total horsepower / Number of cars = 9630 / 36 = 267.5\\n\\nThus, the average horsepower is 267.5.\",\n",
      "        \"refusal\": null,\n",
      "        \"role\": \"assistant\",\n",
      "        \"audio\": null,\n",
      "        \"function_call\": null,\n",
      "        \"tool_calls\": null\n",
      "      }\n",
      "    }\n",
      "  ],\n",
      "  \"created\": 1732644038,\n",
      "  \"model\": \"gpt-4o-2024-08-06\",\n",
      "  \"object\": \"chat.completion\",\n",
      "  \"service_tier\": null,\n",
      "  \"system_fingerprint\": \"fp_04751d0b65\",\n",
      "  \"usage\": {\n",
      "    \"completion_tokens\": 618,\n",
      "    \"prompt_tokens\": 2192,\n",
      "    \"total_tokens\": 2810,\n",
      "    \"completion_tokens_details\": null,\n",
      "    \"prompt_tokens_details\": null\n",
      "  }\n",
      "}\n",
      "To calculate the average horsepower from your CSV data, we will sum the horsepower values and divide by the number of entries.\n",
      "\n",
      "Let's first count the number of cars and sum their horsepower:\n",
      "\n",
      "1. Acura MDX: 265\n",
      "2. Acura RSX Type S 2dr: 200\n",
      "3. Acura TSX 4dr: 200\n",
      "4. Acura TL 4dr: 270\n",
      "5. Acura 3.5 RL 4dr: 225\n",
      "6. Acura 3.5 RL w/Navigation 4dr: 225\n",
      "7. Acura NSX coupe 2dr manual S: 290\n",
      "8. Audi A4 1.8T 4dr: 170\n",
      "9. Audi A4 1.8T convertible 2dr: 170\n",
      "10. Audi A4 3.0 4dr: 220\n",
      "11. Audi A4 3.0 Quattro 4dr manual: 220\n",
      "12. Audi A4 3.0 Quattro 4dr auto: 220\n",
      "13. Audi A6 3.0 4dr: 220\n",
      "14. Audi A6 3.0 Quattro 4dr: 220\n",
      "15. Audi A4 3.0 convertible 2dr: 220\n",
      "16. Audi A4 3.0 Quattro convertible 2dr: 220\n",
      "17. Audi A6 2.7 Turbo Quattro 4dr: 250\n",
      "18. Audi A6 3.0 Avant Quattro: 220\n",
      "19. Audi S4 Avant Quattro: 340\n",
      "20. BMW X3 3.0i: 225\n",
      "21. BMW X5 4.4i: 325\n",
      "22. BMW 325i 4dr: 184\n",
      "23. BMW 325Ci 2dr: 184\n",
      "24. BMW 325Ci convertible 2dr: 184\n",
      "25. BMW 325xi 4dr: 184\n",
      "26. BMW 330i 4dr: 225\n",
      "27. BMW 330Ci 2dr: 225\n",
      "28. BMW 330xi 4dr: 225\n",
      "29. BMW 525i 4dr: 184\n",
      "30. BMW 330Ci convertible 2dr: 225\n",
      "31. BMW 530i 4dr: 225\n",
      "32. BMW 545iA 4dr: 325\n",
      "33. BMW 745i 4dr: 325\n",
      "34. BMW 745Li 4dr: 325\n",
      "35. BMW M3 coupe 2dr: 333\n",
      "36. BMW M3 convertible 2dr: 333\n",
      "\n",
      "Now, let's calculate the average:\n",
      "\n",
      "- Total horsepower = 9630\n",
      "- Number of cars = 36\n",
      "\n",
      "Average horsepower = Total horsepower / Number of cars = 9630 / 36 = 267.5\n",
      "\n",
      "Thus, the average horsepower is 267.5.\n"
     ]
    }
   ],
   "source": [
    "answer = azure_openai(\"What is average horsepower?\")\n",
    "\n",
    "print(answer)"
   ]
  },
  {
   "cell_type": "code",
   "execution_count": 18,
   "metadata": {},
   "outputs": [
    {
     "name": "stdout",
     "output_type": "stream",
     "text": [
      "{\n",
      "  \"id\": \"chatcmpl-AXuBcn1QVh2Tb70QsSEx4cSVAKsz2\",\n",
      "  \"choices\": [\n",
      "    {\n",
      "      \"finish_reason\": \"stop\",\n",
      "      \"index\": 0,\n",
      "      \"logprobs\": null,\n",
      "      \"message\": {\n",
      "        \"content\": \"To calculate the average horsepower for BMW cars, we will focus on the rows where the Manufacturer is \\\"BMW\\\" and then compute the mean of the Horsepower column for these rows.\\n\\nHere's the data for BMW models along with their horsepower:\\n\\n- BMW X3 3.0i: 225.0 horsepower\\n- BMW X5 4.4i: 325.0 horsepower\\n- BMW 325i 4dr: 184.0 horsepower\\n- BMW 325Ci 2dr: 184.0 horsepower\\n- BMW 325Ci convertible 2dr: 184.0 horsepower\\n- BMW 325xi 4dr: 184.0 horsepower\\n- BMW 330i 4dr: 225.0 horsepower\\n- BMW 330Ci 2dr: 225.0 horsepower\\n- BMW 330xi 4dr: 225.0 horsepower\\n- BMW 525i 4dr: 184.0 horsepower\\n- BMW 330Ci convertible 2dr: 225.0 horsepower\\n- BMW 530i 4dr: 225.0 horsepower\\n- BMW 545iA 4dr: 325.0 horsepower\\n- BMW 745i 4dr: 325.0 horsepower\\n- BMW 745Li 4dr: 325.0 horsepower\\n- BMW M3 coupe 2dr: 333.0 horsepower\\n- BMW M3 convertible 2dr: 333.0 horsepower\\n\\nNow, calculate the average:\\n\\n\\\\[\\n\\\\text{Average Horsepower} = \\\\frac{(225 + 325 + 184 + 184 + 184 + 184 + 225 + 225 + 225 + 184 + 225 + 225 + 325 + 325 + 325 + 333 + 333)}{17}\\n\\\\]\\n\\n\\\\[\\n= \\\\frac{4329}{17} = 254.65\\n\\\\]\\n\\nThe average horsepower for BMW cars is approximately \\\\(254.65\\\\).\",\n",
      "        \"refusal\": null,\n",
      "        \"role\": \"assistant\",\n",
      "        \"audio\": null,\n",
      "        \"function_call\": null,\n",
      "        \"tool_calls\": null\n",
      "      }\n",
      "    }\n",
      "  ],\n",
      "  \"created\": 1732644168,\n",
      "  \"model\": \"gpt-4o-2024-08-06\",\n",
      "  \"object\": \"chat.completion\",\n",
      "  \"service_tier\": null,\n",
      "  \"system_fingerprint\": \"fp_04751d0b65\",\n",
      "  \"usage\": {\n",
      "    \"completion_tokens\": 415,\n",
      "    \"prompt_tokens\": 2194,\n",
      "    \"total_tokens\": 2609,\n",
      "    \"completion_tokens_details\": null,\n",
      "    \"prompt_tokens_details\": null\n",
      "  }\n",
      "}\n",
      "To calculate the average horsepower for BMW cars, we will focus on the rows where the Manufacturer is \"BMW\" and then compute the mean of the Horsepower column for these rows.\n",
      "\n",
      "Here's the data for BMW models along with their horsepower:\n",
      "\n",
      "- BMW X3 3.0i: 225.0 horsepower\n",
      "- BMW X5 4.4i: 325.0 horsepower\n",
      "- BMW 325i 4dr: 184.0 horsepower\n",
      "- BMW 325Ci 2dr: 184.0 horsepower\n",
      "- BMW 325Ci convertible 2dr: 184.0 horsepower\n",
      "- BMW 325xi 4dr: 184.0 horsepower\n",
      "- BMW 330i 4dr: 225.0 horsepower\n",
      "- BMW 330Ci 2dr: 225.0 horsepower\n",
      "- BMW 330xi 4dr: 225.0 horsepower\n",
      "- BMW 525i 4dr: 184.0 horsepower\n",
      "- BMW 330Ci convertible 2dr: 225.0 horsepower\n",
      "- BMW 530i 4dr: 225.0 horsepower\n",
      "- BMW 545iA 4dr: 325.0 horsepower\n",
      "- BMW 745i 4dr: 325.0 horsepower\n",
      "- BMW 745Li 4dr: 325.0 horsepower\n",
      "- BMW M3 coupe 2dr: 333.0 horsepower\n",
      "- BMW M3 convertible 2dr: 333.0 horsepower\n",
      "\n",
      "Now, calculate the average:\n",
      "\n",
      "\\[\n",
      "\\text{Average Horsepower} = \\frac{(225 + 325 + 184 + 184 + 184 + 184 + 225 + 225 + 225 + 184 + 225 + 225 + 325 + 325 + 325 + 333 + 333)}{17}\n",
      "\\]\n",
      "\n",
      "\\[\n",
      "= \\frac{4329}{17} = 254.65\n",
      "\\]\n",
      "\n",
      "The average horsepower for BMW cars is approximately \\(254.65\\).\n"
     ]
    }
   ],
   "source": [
    "answer = azure_openai(\"What is average horsepower for BMW?\")\n",
    "\n",
    "print(answer)"
   ]
  },
  {
   "cell_type": "code",
   "execution_count": null,
   "metadata": {},
   "outputs": [],
   "source": [
    "answer = azure_openai(\"What is average horsepower for Audi?\")\n",
    "\n",
    "print(answer)"
   ]
  },
  {
   "cell_type": "code",
   "execution_count": null,
   "metadata": {},
   "outputs": [],
   "source": [
    "answer = azure_openai(\"What is lowest MPG_Highway?\")\n",
    "\n",
    "print(answer)"
   ]
  },
  {
   "cell_type": "code",
   "execution_count": null,
   "metadata": {},
   "outputs": [],
   "source": [
    "answer = azure_openai(\"What is the car model that has the lowest MPG_Highway?\")\n",
    "\n",
    "print(answer)"
   ]
  },
  {
   "cell_type": "code",
   "execution_count": null,
   "metadata": {},
   "outputs": [],
   "source": [
    "answer = azure_openai(\n",
    "    \"What is the car model from Audi that has the greatest cylinders value?\"\n",
    ")\n",
    "\n",
    "print(answer)"
   ]
  },
  {
   "cell_type": "code",
   "execution_count": null,
   "metadata": {},
   "outputs": [],
   "source": [
    "answer = azure_openai(\n",
    "    \"What is the car model from Audi that has the lowest cylinders value?\"\n",
    ")\n",
    "\n",
    "print(answer)"
   ]
  },
  {
   "cell_type": "code",
   "execution_count": null,
   "metadata": {},
   "outputs": [],
   "source": [
    "answer = azure_openai(\"What are the unique values of Type?\")\n",
    "\n",
    "print(answer)"
   ]
  },
  {
   "cell_type": "code",
   "execution_count": null,
   "metadata": {},
   "outputs": [],
   "source": [
    "answer = azure_openai(\"What are the unique values of Origin?\")\n",
    "\n",
    "print(answer)"
   ]
  },
  {
   "cell_type": "code",
   "execution_count": null,
   "metadata": {},
   "outputs": [],
   "source": [
    "answer = azure_openai(\n",
    "    \"What is the car model from Asia that has the lowest cylinders value?\"\n",
    ")\n",
    "\n",
    "print(answer)"
   ]
  },
  {
   "cell_type": "code",
   "execution_count": null,
   "metadata": {},
   "outputs": [],
   "source": [
    "answer = azure_openai(\"What is the smallest car in term of length?\")\n",
    "\n",
    "print(answer)"
   ]
  },
  {
   "cell_type": "code",
   "execution_count": null,
   "metadata": {},
   "outputs": [],
   "source": [
    "answer = azure_openai(\n",
    "    \"What is the biggest car in term of length? Print only the name and the length\"\n",
    ")\n",
    "\n",
    "print(answer)"
   ]
  },
  {
   "cell_type": "code",
   "execution_count": 19,
   "metadata": {},
   "outputs": [
    {
     "name": "stdout",
     "output_type": "stream",
     "text": [
      "{\n",
      "  \"id\": \"chatcmpl-AXuCD5aeO3g0FIMSFmfrZn5KfCiJs\",\n",
      "  \"choices\": [\n",
      "    {\n",
      "      \"finish_reason\": \"stop\",\n",
      "      \"index\": 0,\n",
      "      \"logprobs\": null,\n",
      "      \"message\": {\n",
      "        \"content\": \"To find the average value in terms of the car's length from your data, we'll calculate the mean of the \\\"Length\\\" values provided. Let's do the computation:\\n\\n\\\\[\\n\\\\text{Average Length} = \\\\frac{189 + 172 + 183 + 186 + 197 + 197 + 174 + 179 + 180 + 179 + 179 + 179 + 192 + 192 + 180 + 180 + 192 + 192 + 179 + 180 + 184 + 176 + 177 + 177 + 176 + 176 + 176 + 176 + 191 + 177 + 191 + 191 + 198 + 204 + 177 + 177}{36}\\n\\\\]\\n\\nFirst, sum up all the lengths:\\n\\n\\\\(189 + 172 + 183 + 186 + 197 + 197 + 174 + 179 + 180 + 179 + 179 + 179 + 192 + 192 + 180 + 180 + 192 + 192 + 179 + 180 + 184 + 176 + 177 + 177 + 176 + 176 + 176 + 176 + 191 + 177 + 191 + 191 + 198 + 204 + 177 + 177 = 6454\\\\)\\n\\nNow, divide by the number of entries (36):\\n\\n\\\\[\\n\\\\text{Average Length} = \\\\frac{6454}{36} \\\\approx 179.28\\n\\\\]\\n\\nThe average length of the cars is approximately 179.28 units.\",\n",
      "        \"refusal\": null,\n",
      "        \"role\": \"assistant\",\n",
      "        \"audio\": null,\n",
      "        \"function_call\": null,\n",
      "        \"tool_calls\": null\n",
      "      }\n",
      "    }\n",
      "  ],\n",
      "  \"created\": 1732644205,\n",
      "  \"model\": \"gpt-4o-2024-08-06\",\n",
      "  \"object\": \"chat.completion\",\n",
      "  \"service_tier\": null,\n",
      "  \"system_fingerprint\": \"fp_d54531d9eb\",\n",
      "  \"usage\": {\n",
      "    \"completion_tokens\": 328,\n",
      "    \"prompt_tokens\": 2202,\n",
      "    \"total_tokens\": 2530,\n",
      "    \"completion_tokens_details\": null,\n",
      "    \"prompt_tokens_details\": null\n",
      "  }\n",
      "}\n",
      "To find the average value in terms of the car's length from your data, we'll calculate the mean of the \"Length\" values provided. Let's do the computation:\n",
      "\n",
      "\\[\n",
      "\\text{Average Length} = \\frac{189 + 172 + 183 + 186 + 197 + 197 + 174 + 179 + 180 + 179 + 179 + 179 + 192 + 192 + 180 + 180 + 192 + 192 + 179 + 180 + 184 + 176 + 177 + 177 + 176 + 176 + 176 + 176 + 191 + 177 + 191 + 191 + 198 + 204 + 177 + 177}{36}\n",
      "\\]\n",
      "\n",
      "First, sum up all the lengths:\n",
      "\n",
      "\\(189 + 172 + 183 + 186 + 197 + 197 + 174 + 179 + 180 + 179 + 179 + 179 + 192 + 192 + 180 + 180 + 192 + 192 + 179 + 180 + 184 + 176 + 177 + 177 + 176 + 176 + 176 + 176 + 191 + 177 + 191 + 191 + 198 + 204 + 177 + 177 = 6454\\)\n",
      "\n",
      "Now, divide by the number of entries (36):\n",
      "\n",
      "\\[\n",
      "\\text{Average Length} = \\frac{6454}{36} \\approx 179.28\n",
      "\\]\n",
      "\n",
      "The average length of the cars is approximately 179.28 units.\n"
     ]
    }
   ],
   "source": [
    "answer = azure_openai(\n",
    "    \"What is the average value in term of length? Print only the value\"\n",
    ")\n",
    "\n",
    "print(answer)"
   ]
  },
  {
   "cell_type": "code",
   "execution_count": null,
   "metadata": {},
   "outputs": [],
   "source": [
    "answer = azure_openai(\n",
    "    \"Display some cars that contain the term 'Quattro'. Just print the results into a json format\"\n",
    ")\n",
    "\n",
    "print(answer)"
   ]
  },
  {
   "cell_type": "code",
   "execution_count": null,
   "metadata": {},
   "outputs": [],
   "source": [
    "answer = azure_openai(\n",
    "    \"Find me 3 cars with Drive Train = All. Just print the results into a json format\"\n",
    ")\n",
    "\n",
    "print(answer)"
   ]
  },
  {
   "cell_type": "code",
   "execution_count": null,
   "metadata": {},
   "outputs": [],
   "source": [
    "answer = azure_openai(\n",
    "    \"Display only cars where type = 'SUV'. Just print the results into an XML format\"\n",
    ")\n",
    "\n",
    "print(answer)"
   ]
  },
  {
   "cell_type": "code",
   "execution_count": null,
   "metadata": {},
   "outputs": [],
   "source": []
  }
 ],
 "metadata": {
  "kernelspec": {
   "display_name": "azure-ai",
   "language": "python",
   "name": "python3"
  },
  "language_info": {
   "codemirror_mode": {
    "name": "ipython",
    "version": 3
   },
   "file_extension": ".py",
   "mimetype": "text/x-python",
   "name": "python",
   "nbconvert_exporter": "python",
   "pygments_lexer": "ipython3",
   "version": "3.10.15"
  }
 },
 "nbformat": 4,
 "nbformat_minor": 2
}
