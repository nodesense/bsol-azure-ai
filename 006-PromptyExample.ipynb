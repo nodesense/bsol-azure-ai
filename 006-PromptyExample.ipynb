{
 "cells": [
  {
   "cell_type": "code",
   "execution_count": 1,
   "metadata": {},
   "outputs": [],
   "source": [
    "from azure.ai.inference.prompts import PromptTemplate\n",
    "import pathlib\n"
   ]
  },
  {
   "cell_type": "code",
   "execution_count": 3,
   "metadata": {},
   "outputs": [
    {
     "data": {
      "text/plain": [
       "WindowsPath('C:/azure-ai/data/prompts/math.prompty')"
      ]
     },
     "execution_count": 3,
     "metadata": {},
     "output_type": "execute_result"
    }
   ],
   "source": [
    "ASSET_PATH = pathlib.Path(\"..\").resolve() / \"data\" /  \"prompts\" / \"math.prompty\"\n",
    "ASSET_PATH"
   ]
  },
  {
   "cell_type": "code",
   "execution_count": 5,
   "metadata": {},
   "outputs": [
    {
     "name": "stdout",
     "output_type": "stream",
     "text": [
      "[{'content': 'You are an AI assistant who helps people find math result. As '\n",
      "             'the assistant, \\n'\n",
      "             'you answer questions briefly, succinctly, and in a personable '\n",
      "             'manner using \\n'\n",
      "             'markdown and even add some personal flair with appropriate '\n",
      "             'emojis.\\n'\n",
      "             '\\n'\n",
      "             '# Customer\\n'\n",
      "             'My name is GKS \\n'\n",
      "             '\\n'\n",
      "             '# Context\\n'\n",
      "             'Use the following context to provide a more personalized '\n",
      "             'response to GKS:\\n'\n",
      "             'Solve simple math problem for me',\n",
      "  'role': 'system'},\n",
      " {'content': 'can you add 10 + 20', 'role': 'user'}]\n",
      "Parameters\n",
      "{'max_tokens': 3000, 'temperature': 0.8}\n"
     ]
    }
   ],
   "source": [
    "\n",
    "# generate a search query from the chat messages\n",
    "intent_prompty = PromptTemplate.from_prompty(ASSET_PATH)\n",
    "\n",
    "messages=intent_prompty.create_messages()\n",
    "\n",
    "\n",
    "import pprint \n",
    "pprint.pprint(messages)\n",
    "print (\"Parameters\")\n",
    "pprint.pprint(intent_prompty.parameters)\n",
    "    "
   ]
  },
  {
   "cell_type": "code",
   "execution_count": null,
   "metadata": {},
   "outputs": [],
   "source": []
  }
 ],
 "metadata": {
  "kernelspec": {
   "display_name": "azure-ai",
   "language": "python",
   "name": "python3"
  },
  "language_info": {
   "codemirror_mode": {
    "name": "ipython",
    "version": 3
   },
   "file_extension": ".py",
   "mimetype": "text/x-python",
   "name": "python",
   "nbconvert_exporter": "python",
   "pygments_lexer": "ipython3",
   "version": "3.10.15"
  }
 },
 "nbformat": 4,
 "nbformat_minor": 2
}
